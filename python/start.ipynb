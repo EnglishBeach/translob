{
 "cells": [
  {
   "cell_type": "code",
   "execution_count": 1,
   "metadata": {},
   "outputs": [],
   "source": [
    "from fi2010 import fetch_fi2010\n",
    "import LobAttention, LobFeatures, LobPosition, LobTransformer\n",
    "import numpy as np\n",
    "import pandas as pd\n",
    "pd.options.mode.copy_on_write = True"
   ]
  },
  {
   "cell_type": "code",
   "execution_count": 2,
   "metadata": {},
   "outputs": [],
   "source": [
    "df = fetch_fi2010()"
   ]
  },
  {
   "cell_type": "code",
   "execution_count": 3,
   "metadata": {},
   "outputs": [],
   "source": [
    "def make_simple_data(\n",
    "    df: pd.DataFrame,\n",
    "    group_by=['STOCK', 'DAY'],\n",
    "    last_n=100,\n",
    "):\n",
    "\n",
    "    columns_price = [i for i in df.columns if 'PRICE' in i]\n",
    "    columns_volume = [i for i in df.columns if 'VOLUME' in i]\n",
    "    columns =\\\n",
    "        columns_price[:10] +\\\n",
    "        columns_volume[:10] +\\\n",
    "        columns_price[10:] +\\\n",
    "        columns_volume[10:]\n",
    "\n",
    "    result = np.array(\n",
    "        [i[columns].to_numpy()[-last_n:] for _, i in df.groupby(by=group_by)])\n",
    "\n",
    "    return result"
   ]
  },
  {
   "cell_type": "code",
   "execution_count": 4,
   "metadata": {},
   "outputs": [],
   "source": [
    "# def make_sequence_tensor(df_stock:pd.DataFrame):\n",
    "#     columns_volume = [i for i in df_stock.columns if 'VOLUME' in i]\n",
    "#     columns_volume = columns_volume[-11::-1] + columns_volume[10:]\n",
    "#     columns_price = [i for i in df_stock.columns if 'PRICE' in i]\n",
    "#     columns_price = columns_price[-11::-1] + columns_price[10:]\n",
    "#     df_price = (\n",
    "#         df_stock[columns_price]\n",
    "#         .stack()\n",
    "#         .to_frame(name='price')\n",
    "#         .reset_index(level=[1])\n",
    "#         .drop(columns='level_1')) # yapf: disable\n",
    "\n",
    "#     df_volume = (\n",
    "#         df_stock[columns_volume]\n",
    "#         .stack()\n",
    "#         .to_frame(name='volume')\n",
    "#         .reset_index(level=[1])\n",
    "#         .drop(columns='level_1'))# yapf: disable\n",
    "    \n",
    "#     book = df_price\n",
    "#     book['volume'] = df_volume\n",
    "#     data = book.to_numpy().reshape(-1, 20, 2)\n",
    "#     return data"
   ]
  },
  {
   "cell_type": "code",
   "execution_count": 5,
   "metadata": {},
   "outputs": [],
   "source": [
    "data = make_simple_data(df)"
   ]
  },
  {
   "cell_type": "code",
   "execution_count": 6,
   "metadata": {},
   "outputs": [
    {
     "data": {
      "text/plain": [
       "(50, 100, 40)"
      ]
     },
     "execution_count": 6,
     "metadata": {},
     "output_type": "execute_result"
    }
   ],
   "source": [
    "data.shape"
   ]
  }
 ],
 "metadata": {
  "kernelspec": {
   "display_name": "Python 3.11.1 ('translob_env': venv)",
   "language": "python",
   "name": "python3"
  },
  "language_info": {
   "codemirror_mode": {
    "name": "ipython",
    "version": 3
   },
   "file_extension": ".py",
   "mimetype": "text/x-python",
   "name": "python",
   "nbconvert_exporter": "python",
   "pygments_lexer": "ipython3",
   "version": "3.11.1"
  },
  "orig_nbformat": 4,
  "vscode": {
   "interpreter": {
    "hash": "9a9191c6b2d33302590e376f8aee71d3c7e87a446da0bda5474eb7c47655c891"
   }
  }
 },
 "nbformat": 4,
 "nbformat_minor": 2
}
