{
 "cells": [
  {
   "cell_type": "code",
   "execution_count": 4,
   "metadata": {},
   "outputs": [
    {
     "name": "stdout",
     "output_type": "stream",
     "text": [
      "Using TensorFlow backend\n"
     ]
    }
   ],
   "source": [
    "import numpy as np\n",
    "import pandas as pd\n",
    "from backend import DataBack,set_backend"
   ]
  },
  {
   "cell_type": "code",
   "execution_count": 1,
   "metadata": {},
   "outputs": [],
   "source": [
    "import sklearn\n",
    "import tensorflow as tf\n",
    "import keras"
   ]
  },
  {
   "cell_type": "code",
   "execution_count": 5,
   "metadata": {},
   "outputs": [
    {
     "name": "stdout",
     "output_type": "stream",
     "text": [
      "Dataset  : ../dataset/saved_data\n",
      "Callbacks: ../Temp/callbacks\n"
     ]
    }
   ],
   "source": [
    "set_backend('jupyter')"
   ]
  },
  {
   "cell_type": "code",
   "execution_count": 13,
   "metadata": {},
   "outputs": [],
   "source": [
    "# train,val,test =DataBack.from_saved(proportion=1, train_indexes=[6], val_indexes=[6])"
   ]
  },
  {
   "cell_type": "code",
   "execution_count": 109,
   "metadata": {},
   "outputs": [],
   "source": [
    "# x0 = np.load('../dataset/old_data/x_val.npy')\n",
    "# y0 = np.load('../dataset/old_data/y_val.npy')\n",
    "\n",
    "X= np.load('../dataset/saved_data/x_train6.npy')\n",
    "Y= np.load('../dataset/saved_data/y_train6.npy')[:1000]\n",
    "\n",
    "YH = tf.keras.utils.to_categorical(Y,num_classes=3)\n",
    "Y_rand = np.random.randint(high=3,low=0,size=1000)"
   ]
  },
  {
   "cell_type": "code",
   "execution_count": 110,
   "metadata": {},
   "outputs": [],
   "source": [
    "sp_acc = tf.keras.metrics.SparseCategoricalAccuracy()\n",
    "acc = tf.keras.metrics.CategoricalAccuracy()"
   ]
  },
  {
   "cell_type": "code",
   "execution_count": 159,
   "metadata": {},
   "outputs": [
    {
     "name": "stdout",
     "output_type": "stream",
     "text": [
      "Accuracy: 0.381\n",
      "Sparce accuracy: 0.995\n"
     ]
    }
   ],
   "source": [
    "acc.reset_state();sp_acc.reset_state();\n",
    "Y_rand = np.random.randint(high=3, low=0, size=1000)\n",
    "n = 5\n",
    "Y1 = np.hstack([\n",
    "    (Y[:n] + 1) % 3,\n",
    "    Y[n:],\n",
    "])\n",
    "YH1 = tf.keras.utils.to_categorical(Y1, num_classes=3)\n",
    "\n",
    "acc.update_state(y_pred=YH, y_true=Y1)\n",
    "\n",
    "sp_acc.update_state(y_pred=YH, y_true=Y1)\n",
    "\n",
    "print(f'Accuracy: {acc.result().numpy():.5}',f'Sparce accuracy: {sp_acc.result().numpy():.5}',sep='\\n')"
   ]
  }
 ],
 "metadata": {
  "kernelspec": {
   "display_name": "Python 3.10.0 ('zGPU_env': venv)",
   "language": "python",
   "name": "python3"
  },
  "language_info": {
   "codemirror_mode": {
    "name": "ipython",
    "version": 3
   },
   "file_extension": ".py",
   "mimetype": "text/x-python",
   "name": "python",
   "nbconvert_exporter": "python",
   "pygments_lexer": "ipython3",
   "version": "3.10.0"
  },
  "orig_nbformat": 4,
  "vscode": {
   "interpreter": {
    "hash": "15c3c8882de147eda8616aa412d6cb2a921cdd19c8088b1f5bdfa95af6065bbb"
   }
  }
 },
 "nbformat": 4,
 "nbformat_minor": 2
}
