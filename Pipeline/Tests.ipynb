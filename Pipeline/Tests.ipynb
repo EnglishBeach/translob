{
 "cells": [
  {
   "cell_type": "code",
   "execution_count": 58,
   "metadata": {},
   "outputs": [],
   "source": []
  },
  {
   "cell_type": "code",
   "execution_count": 75,
   "metadata": {},
   "outputs": [],
   "source": [
    "a =A({\n",
    "    'seq_len': 100,\n",
    "    'convolutional': dict(\n",
    "        filters=14,\n",
    "        dilation_steps=4,\n",
    "    ),\n",
    "    'transformer': dict(\n",
    "        heads=3,\n",
    "        blocks=2,\n",
    "        share_weights=False,\n",
    "    ),\n",
    "    # 'feed_forward': dict(\n",
    "    #     units = 64,\n",
    "    #     dropout_rate=0.1,\n",
    "    #     kernel_initializer='glorot_uniform',\n",
    "    #     out_activation='softmax',\n",
    "    # ),\n",
    "})\n",
    "b =DataClass({\n",
    "    'seq_len': 20,\n",
    "    'convolutional': dict(\n",
    "        filters=14,\n",
    "        dilation_steps=5,\n",
    "    ),\n",
    "    'transformer': dict(\n",
    "        heads=3,\n",
    "        blocks=2,\n",
    "        share_weights=False,\n",
    "    ),\n",
    "    'feed_forward': dict(\n",
    "        units = 64,\n",
    "        dropout_rate=0.1,\n",
    "        kernel_initializer='glorot_uniform',\n",
    "        out_activation='none',\n",
    "    ),\n",
    "})"
   ]
  },
  {
   "cell_type": "code",
   "execution_count": 76,
   "metadata": {},
   "outputs": [
    {
     "name": "stdout",
     "output_type": "stream",
     "text": [
      "convolutional\n",
      "├─ dilation_steps: 4\n",
      "└─ filters: 14\n",
      "seq_len: 100\n",
      "transformer\n",
      "├─ blocks: 2\n",
      "├─ heads: 3\n",
      "└─ share_weights: False\n",
      "\n"
     ]
    }
   ],
   "source": [
    "print(a)"
   ]
  },
  {
   "cell_type": "code",
   "execution_count": 67,
   "metadata": {},
   "outputs": [
    {
     "name": "stdout",
     "output_type": "stream",
     "text": [
      "convolutional\n",
      "├─ dilation_steps: (4, 5)\n",
      "└─ filters: (14, 14)\n",
      "seq_len: (100, 20)\n",
      "transformer\n",
      "├─ blocks: (2, 2)\n",
      "├─ heads: (3, 3)\n",
      "└─ share_weights: (False, False)\n",
      "\n"
     ]
    }
   ],
   "source": [
    "print(a.compare(b))"
   ]
  },
  {
   "cell_type": "code",
   "execution_count": 68,
   "metadata": {},
   "outputs": [
    {
     "name": "stdout",
     "output_type": "stream",
     "text": [
      "convolutional\n",
      "├─ dilation_steps: 5\n",
      "└─ filters: 14\n",
      "feed_forward\n",
      "├─ dropout_rate: 0.1\n",
      "├─ kernel_initializer: glorot_uniform\n",
      "├─ out_activation: none\n",
      "└─ units: 64\n",
      "seq_len: 20\n",
      "transformer\n",
      "├─ blocks: 2\n",
      "├─ heads: 3\n",
      "└─ share_weights: False\n",
      "\n"
     ]
    }
   ],
   "source": [
    "print(b)"
   ]
  },
  {
   "cell_type": "code",
   "execution_count": 69,
   "metadata": {},
   "outputs": [
    {
     "name": "stdout",
     "output_type": "stream",
     "text": [
      "convolutional\n",
      "├─ dilation_steps: (5, 4)\n",
      "└─ filters: (14, 14)\n",
      "feed_forward\n",
      "├─ dropout_rate: (0.1, None)\n",
      "├─ kernel_initializer: ('glorot_uniform', None)\n",
      "├─ out_activation: ('none', None)\n",
      "└─ units: (64, None)\n",
      "seq_len: (20, 100)\n",
      "transformer\n",
      "├─ blocks: (2, 2)\n",
      "├─ heads: (3, 3)\n",
      "└─ share_weights: (False, False)\n",
      "\n"
     ]
    }
   ],
   "source": [
    "print(b.compare(a))"
   ]
  }
 ],
 "metadata": {
  "kernelspec": {
   "display_name": "Python 3.10.0 ('zGPU_env': venv)",
   "language": "python",
   "name": "python3"
  },
  "language_info": {
   "codemirror_mode": {
    "name": "ipython",
    "version": 3
   },
   "file_extension": ".py",
   "mimetype": "text/x-python",
   "name": "python",
   "nbconvert_exporter": "python",
   "pygments_lexer": "ipython3",
   "version": "3.10.0"
  },
  "orig_nbformat": 4,
  "vscode": {
   "interpreter": {
    "hash": "15c3c8882de147eda8616aa412d6cb2a921cdd19c8088b1f5bdfa95af6065bbb"
   }
  }
 },
 "nbformat": 4,
 "nbformat_minor": 2
}
