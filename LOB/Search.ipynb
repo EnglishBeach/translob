{
 "cells": [
  {
   "cell_type": "code",
   "execution_count": null,
   "metadata": {},
   "outputs": [],
   "source": [
    "%tensorboard "
   ]
  },
  {
   "cell_type": "code",
   "execution_count": null,
   "metadata": {},
   "outputs": [],
   "source": [
    "import numpy as np\n",
    "from tqdm import tqdm\n",
    "\n",
    "import tensorflow as tf\n",
    "import keras\n",
    "from keras.callbacks import CSVLogger\n",
    "\n",
    "import data\n",
    "from modules.utilites import DataClass\n",
    "\n",
    "seq_len = 100"
   ]
  },
  {
   "cell_type": "code",
   "execution_count": null,
   "metadata": {},
   "outputs": [],
   "source": [
    "# Load data\n",
    "row_data = (\n",
    "    # data.load_dataset(horizon=4)\n",
    "    data.load_saved_datas())\n",
    "\n",
    "# row_data['train'][0] = row_data['train'][0][:1000]\n",
    "# row_data['train'][1]= row_data['train'][1][:1000]\n",
    "\n",
    "data.inspect_datas(row_data)"
   ]
  },
  {
   "cell_type": "code",
   "execution_count": null,
   "metadata": {},
   "outputs": [],
   "source": [
    "# # Save data\n",
    "# data.save_data(name= 'train',x= x_train,y=y_train)\n",
    "# data.save_data(name= 'val',x= x_val,y=y_val)\n",
    "# data.save_data(name= 'test',x= x_test,y=y_test)"
   ]
  },
  {
   "cell_type": "markdown",
   "metadata": {},
   "source": [
    "# Test model"
   ]
  },
  {
   "cell_type": "code",
   "execution_count": null,
   "metadata": {},
   "outputs": [],
   "source": [
    "from models import m_base as test_model"
   ]
  },
  {
   "cell_type": "code",
   "execution_count": null,
   "metadata": {},
   "outputs": [],
   "source": [
    "# Model parametrs\n",
    "class CN_default(DataClass):\n",
    "    n_filters = 14\n",
    "    dilation_steps = 4  # dilation = 2**dilation_step\n",
    "\n",
    "\n",
    "class AN_default(DataClass):\n",
    "    attention_heads = 3\n",
    "    blocks = 2\n",
    "    share_weights = False\n",
    "\n",
    "\n",
    "class FF_default(DataClass):\n",
    "    dropout_rate = 0.1\n",
    "\n",
    "\n",
    "class Optimaser_default(DataClass):\n",
    "    lr = 0.0001\n",
    "    adam_beta1 = 0.9\n",
    "    adam_beta2 = 0.999\n",
    "\n",
    "\n",
    "class Trainig_default(DataClass):\n",
    "    shuffle = True\n",
    "    batch_size = 512\n",
    "    epochs = 150\n",
    "\n",
    "\n",
    "class Full_default(DataClass):\n",
    "    cn = CN_default()\n",
    "    an = AN_default()\n",
    "    ff = FF_default()\n",
    "    optimizer = keras.optimizers.Adam(\n",
    "        learning_rate=0.0001,\n",
    "        beta_1=0.9,\n",
    "        beta_2=0.999,\n",
    "        name=\"Adam\",\n",
    "    )\n",
    "    training = Trainig_default()\n",
    "\n",
    "\n",
    "default_pars = Full_default()"
   ]
  },
  {
   "cell_type": "code",
   "execution_count": null,
   "metadata": {},
   "outputs": [],
   "source": [
    "# Datasets\n",
    "datasets = data.build_datasets(\n",
    "    datas=row_data,\n",
    "    batch_size=default_pars.training.batch_size,\n",
    "    seq_len=seq_len,\n",
    ")\n",
    "ds_train, ds_val, ds_test = datasets['train'], datasets['val'], datasets[\n",
    "    'test']\n",
    "data.inspect_datasets(datasets)"
   ]
  },
  {
   "cell_type": "code",
   "execution_count": null,
   "metadata": {},
   "outputs": [],
   "source": [
    "# Build\n",
    "model = test_model.build_model()\n",
    "model.summary()"
   ]
  },
  {
   "cell_type": "code",
   "execution_count": null,
   "metadata": {},
   "outputs": [],
   "source": [
    "import time\n",
    "class CustomCallback(keras.callbacks.Callback):\n",
    "    def on_train_batch_end(self, batch, logs=None):\n",
    "        if not batch%50:\n",
    "            time.sleep(10)\n",
    "            \n",
    "class CustomCallback(keras.callbacks.TensorBoard):  \n",
    "    def on_train_batch_end(self, batch, logs=None):\n",
    "        super().on_train_batch_end(batch, logs=None)\n",
    "        if not batch%50:\n",
    "            time.sleep(10)"
   ]
  },
  {
   "cell_type": "code",
   "execution_count": null,
   "metadata": {},
   "outputs": [],
   "source": [
    "# Train\n",
    "model.fit(\n",
    "    ds_train,\n",
    "    epochs=default_pars.training.epochs,\n",
    "    validation_data=ds_val,\n",
    "    callbacks=[\n",
    "    CustomCallback(\"callbacks/test1\",histogram_freq=1,update_freq=1,),\n",
    "    ]\n",
    ")"
   ]
  },
  {
   "cell_type": "markdown",
   "metadata": {},
   "source": [
    "# Search"
   ]
  },
  {
   "cell_type": "code",
   "execution_count": null,
   "metadata": {},
   "outputs": [],
   "source": [
    "from keras_tuner.tuners import GridSearch\n",
    "import keras_tuner\n",
    "\n",
    "import models"
   ]
  },
  {
   "cell_type": "code",
   "execution_count": null,
   "metadata": {},
   "outputs": [],
   "source": [
    "# Datasets\n",
    "datasets = data.build_datasets(\n",
    "    datas=row_data,\n",
    "    batch_size=512,\n",
    "    seq_len=seq_len,\n",
    ")\n",
    "ds_train, ds_val, ds_test = datasets['train'], datasets['val'], datasets[\n",
    "    'test']\n",
    "data.inspect_datasets(datasets)"
   ]
  },
  {
   "cell_type": "code",
   "execution_count": null,
   "metadata": {},
   "outputs": [],
   "source": [
    "def configure(hp: keras_tuner.HyperParameters):\n",
    "\n",
    "    class CN_search(DataClass):\n",
    "        dilation_steps = hp.Int(\n",
    "            'cn_layers',\n",
    "            default=4,\n",
    "            min_value=3,\n",
    "            max_value=5,\n",
    "            step=1,\n",
    "        )\n",
    "\n",
    "    class AN_search(DataClass):\n",
    "        attention_heads = 3\n",
    "        blocks = 2\n",
    "        share_weights = hp.Boolean(\n",
    "            'share_weights',\n",
    "            default=True,\n",
    "        )\n",
    "\n",
    "    class FF_search(DataClass):\n",
    "        dropout_rate = hp.Float(\n",
    "            'dropout_rate',\n",
    "            default=0.1,\n",
    "            min_value=0,\n",
    "            max_value=0.5,\n",
    "            step=0.1,\n",
    "        )\n",
    "\n",
    "    lr = hp.Float(\n",
    "        'lr',\n",
    "        default=1e-4,\n",
    "        min_value=1e-6,\n",
    "        max_value=1e-3,\n",
    "    )\n",
    "    beta1 = hp.Float(\n",
    "        'beta1',\n",
    "        default=0.9,\n",
    "        min_value=0.5,\n",
    "        max_value=1.1,\n",
    "        step=0.1,\n",
    "    )\n",
    "    beta2 = hp.Float(\n",
    "        'beta1',\n",
    "        default=0.999,\n",
    "        min_value=0.5,\n",
    "        max_value=1.1,\n",
    "        sampling='log',\n",
    "    )\n",
    "\n",
    "    class Full_search(DataClass):\n",
    "        cn = CN_search()\n",
    "        an = AN_search()\n",
    "        ff = FF_search()\n",
    "        optimizer = keras.optimizers.Adam(\n",
    "            name=\"Adam\",\n",
    "            learning_rate=lr,\n",
    "            beta_1=beta1,\n",
    "            beta_2=beta2,\n",
    "        )\n",
    "\n",
    "    return Full_search()\n",
    "\n",
    "\n",
    "a = configure(keras_tuner.HyperParameters())\n",
    "a.Info_expanded"
   ]
  },
  {
   "cell_type": "code",
   "execution_count": null,
   "metadata": {},
   "outputs": [],
   "source": [
    "def search_base_model(hp):\n",
    "    a = configure(hp)\n",
    "    model = models.m_base.build_model(**a.Info_expanded)\n",
    "    return model\n"
   ]
  },
  {
   "cell_type": "code",
   "execution_count": null,
   "metadata": {},
   "outputs": [],
   "source": [
    "tuner = keras_tuner.RandomSearch(\n",
    "    hypermodel=search_base_model,\n",
    "    objective=\"val_accuracy\",\n",
    "    max_trials=3,\n",
    "    executions_per_trial=2,\n",
    "    directory=\"search\",\n",
    "    project_name=\"base\",\n",
    ")"
   ]
  },
  {
   "cell_type": "code",
   "execution_count": null,
   "metadata": {},
   "outputs": [],
   "source": [
    "%load_ext tensorboard"
   ]
  },
  {
   "cell_type": "code",
   "execution_count": null,
   "metadata": {},
   "outputs": [],
   "source": [
    "tuner.search(\n",
    "    ds_train,\n",
    "    epochs=2,\n",
    "    callbacks = [\n",
    "        keras.callbacks.TensorBoard(\"search/tb_logs\")\n",
    "    ]\n",
    ")\n"
   ]
  }
 ],
 "metadata": {
  "kernelspec": {
   "display_name": "Python 3.11.1 ('translob_env': venv)",
   "language": "python",
   "name": "python3"
  },
  "language_info": {
   "codemirror_mode": {
    "name": "ipython",
    "version": 3
   },
   "file_extension": ".py",
   "mimetype": "text/x-python",
   "name": "python",
   "nbconvert_exporter": "python",
   "pygments_lexer": "ipython3",
   "version": "3.11.1"
  },
  "orig_nbformat": 4,
  "vscode": {
   "interpreter": {
    "hash": "9a9191c6b2d33302590e376f8aee71d3c7e87a446da0bda5474eb7c47655c891"
   }
  }
 },
 "nbformat": 4,
 "nbformat_minor": 2
}
