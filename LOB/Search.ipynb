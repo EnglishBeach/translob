{
 "cells": [
  {
   "cell_type": "markdown",
   "metadata": {},
   "source": [
    "# Preparing"
   ]
  },
  {
   "cell_type": "code",
   "execution_count": null,
   "metadata": {},
   "outputs": [],
   "source": [
    "import numpy as np\n",
    "from tqdm import tqdm\n",
    "\n",
    "import tensorflow as tf\n",
    "import keras\n",
    "from keras.preprocessing import timeseries_dataset_from_array\n",
    "from keras.callbacks import CSVLogger\n",
    "from sklearn.metrics import classification_report\n",
    "\n",
    "import modules.data as data\n",
    "from modules.utilites import DataClass"
   ]
  },
  {
   "cell_type": "code",
   "execution_count": null,
   "metadata": {},
   "outputs": [],
   "source": [
    "# Model parametrs\n",
    "class Input_pars(DataClass):\n",
    "    seq_len = 100\n",
    "\n",
    "\n",
    "class CN_pars(DataClass):\n",
    "    n_filters = 14\n",
    "    dilation_steps = 4  # dilation = 2**dilation_step\n",
    "\n",
    "\n",
    "class AN_pars(DataClass):\n",
    "    attention_heads = 3\n",
    "    blocks = 2\n",
    "    share_weights = False\n",
    "\n",
    "\n",
    "class FF_pars(DataClass):\n",
    "    dropout_rate = 0.1\n",
    "\n",
    "\n",
    "class Optimaser_pars(DataClass):\n",
    "    lr = 0.0001\n",
    "    adam_beta1 = 0.9\n",
    "    adam_beta2 = 0.999\n",
    "\n",
    "\n",
    "class Trainig_pars(DataClass):\n",
    "    shuffle = True\n",
    "    batch_size = 512\n",
    "    epochs = 150\n",
    "\n",
    "\n",
    "class Full_pars(DataClass):\n",
    "    seq_len = 100\n",
    "    cn = CN_pars()\n",
    "    an = AN_pars()\n",
    "    ff = FF_pars()\n",
    "    optimazer = Optimaser_pars()\n",
    "    training = Trainig_pars()\n",
    "\n",
    "\n",
    "pars = Full_pars()"
   ]
  },
  {
   "cell_type": "code",
   "execution_count": null,
   "metadata": {},
   "outputs": [],
   "source": [
    "# Load data\n",
    "((x_train, y_train), (x_val, y_val), (x_test, y_test)) =(\n",
    "# data.load_dataset(horizon=4)\n",
    "data.load_saved_data()\n",
    ")"
   ]
  },
  {
   "cell_type": "code",
   "execution_count": null,
   "metadata": {},
   "outputs": [],
   "source": [
    "# # Save data\n",
    "# data.save_data(name= 'train',x= x_train,y=y_train)\n",
    "# data.save_data(name= 'val',x= x_val,y=y_val)\n",
    "# data.save_data(name= 'test',x= x_test,y=y_test)"
   ]
  },
  {
   "cell_type": "code",
   "execution_count": null,
   "metadata": {},
   "outputs": [],
   "source": [
    "# Dataset\n",
    "ds_train = data.build_dataset(\n",
    "    x=x_train,\n",
    "    y=y_train,\n",
    "    batch_size=pars.training.batch_size,\n",
    "    seq_len=pars.seq_len,\n",
    ")\n",
    "\n",
    "ds_val = data.build_dataset(\n",
    "    x=x_val,\n",
    "    y=y_val,\n",
    "    batch_size=pars.training.batch_size,\n",
    "    seq_len=pars.seq_len,\n",
    ")\n",
    "\n",
    "ds_test = data.build_dataset(\n",
    "    x=x_test,\n",
    "    y=y_test,\n",
    "    batch_size=pars.training.batch_size,\n",
    "    seq_len=pars.seq_len,\n",
    ")\n",
    "\n",
    "print(\n",
    "    f'Train x: {str(x_train.shape): <15} - y: {str(y_train.shape): <15}'+\\\n",
    "    f' - tensor: {len(ds_train)} - {list(ds_train.element_spec[0].shape)}',\n",
    "    f'Val   x: {str(x_val.shape): <15} - y: {str(y_val.shape): <15}'+\\\n",
    "    f' - tensor: {len(ds_val)} - {list(ds_val.element_spec[0].shape)}',\n",
    "    f'Test  x: {str(x_test.shape): <15} - y: {str(y_test.shape): <15}'+\\\n",
    "    f' - tensor: {len(ds_test)} - {list(ds_test.element_spec[0].shape)}',\n",
    "    sep='\\n',\n",
    ")"
   ]
  },
  {
   "cell_type": "markdown",
   "metadata": {},
   "source": [
    "# Test basic model"
   ]
  },
  {
   "cell_type": "code",
   "execution_count": null,
   "metadata": {},
   "outputs": [],
   "source": [
    "# # Model\n",
    "# inputs = blocks.input_block(pars.seq_len)\n",
    "# x= inputs\n",
    "\n",
    "\n",
    "# x = blocks.cnn_block(\n",
    "#     input_layer=x,\n",
    "#     filters=pars.cn.n_filters,\n",
    "#     dilation_steps=pars.cn.dilation_steps,\n",
    "# )\n",
    "\n",
    "# # x= keras.layers.Reshape(target_shape=(100,14,1))(x)\n",
    "# # x = LobFeatures.lob_inception(x)\n",
    "# # x= LobFeatures.lob_cnn(x)\n",
    "\n",
    "\n",
    "# x = blocks.norm_block(input_layer=x)\n",
    "\n",
    "# x = blocks.positional_encoder_block(input_layer=x)\n",
    "\n",
    "\n",
    "# x = blocks.transformer_block(\n",
    "#     input_layer=x,\n",
    "#     n_blocks=pars.an.blocks,\n",
    "#     n_heads=pars.an.attention_heads,\n",
    "#     share_weights=pars.an.share_weights,\n",
    "# )\n",
    "\n",
    "\n",
    "# x = blocks.ffn_block(\n",
    "#     input_layer=x,\n",
    "#     dropout_rate=pars.ff.dropout_rate,\n",
    "# )\n",
    "\n",
    "\n",
    "# model = keras.Model(inputs=inputs, outputs=x)\n",
    "# model.summary(\n",
    "#     line_length=100,\n",
    "#     expand_nested=True,\n",
    "# )"
   ]
  },
  {
   "cell_type": "code",
   "execution_count": null,
   "metadata": {},
   "outputs": [],
   "source": [
    "# # CompiLe\n",
    "# model.compile(\n",
    "#     keras.optimizers.Adam(\n",
    "#         learning_rate=pars.optimazer.lr,\n",
    "#         beta_1=pars.optimazer.adam_beta1,\n",
    "#         beta_2=pars.optimazer.adam_beta2,\n",
    "#         name=\"Adam\",\n",
    "#     ),\n",
    "#     loss=keras.losses.SparseCategoricalCrossentropy(),\n",
    "#     metrics=[\n",
    "#         keras.metrics.CategoricalAccuracy(name='accurancy'),\n",
    "#         keras.metrics.SparseCategoricalAccuracy(name='sparce_accurancy'),\n",
    "#     ],\n",
    "# )"
   ]
  },
  {
   "cell_type": "code",
   "execution_count": null,
   "metadata": {},
   "outputs": [],
   "source": [
    "# # Train\n",
    "# model.fit(\n",
    "#     ds_train,\n",
    "#     # epochs=pars.training.epochs,\n",
    "#     epochs=10,\n",
    "#     validation_data=ds_val,\n",
    "#     # callbacks=[\n",
    "#     #     CSVLogger(r'logs/model1/log.csv', append=True, separator=';')\n",
    "#     # ]\n",
    "# )"
   ]
  },
  {
   "cell_type": "markdown",
   "metadata": {},
   "source": [
    "# Search"
   ]
  },
  {
   "cell_type": "code",
   "execution_count": null,
   "metadata": {},
   "outputs": [],
   "source": [
    "from keras_tuner.tuners import GridSearch\n",
    "import keras_tuner"
   ]
  },
  {
   "cell_type": "code",
   "execution_count": null,
   "metadata": {},
   "outputs": [],
   "source": [
    "import models.base_model"
   ]
  },
  {
   "cell_type": "code",
   "execution_count": null,
   "metadata": {},
   "outputs": [],
   "source": [
    "models.base_model"
   ]
  },
  {
   "cell_type": "code",
   "execution_count": null,
   "metadata": {},
   "outputs": [],
   "source": [
    "hp =keras_tuner.HyperParameters()\n",
    "cn_layers=hp.Int(\n",
    "    'cn_layers',\n",
    "    min_value=3,\n",
    "    max_value=5,\n",
    "    step=1,\n",
    ")\n",
    "cn_filters=hp.Int(\n",
    "    'cn_filters',\n",
    "    min_value=14,\n",
    "    max_value=16,\n",
    "    step=1,\n",
    ")"
   ]
  },
  {
   "cell_type": "code",
   "execution_count": null,
   "metadata": {},
   "outputs": [],
   "source": [
    "def test_model(hp):\n",
    "    cn_layers=hp.Int(\n",
    "    'cn_layers',\n",
    "    min_value=3,\n",
    "    max_value=5,\n",
    "    step=1,\n",
    "    )\n",
    "    cn_filters=hp.Int(\n",
    "        'cn_filters',\n",
    "        min_value=14,\n",
    "        max_value=16,\n",
    "        step=1,\n",
    "    )\n",
    "    \n",
    "    return base_model.build_model(\n",
    "        optimizer=keras.optimizers.Adam(\n",
    "            learning_rate=0.1,\n",
    "            beta_1=0.99,\n",
    "            beta_2=0.9,\n",
    "            name=\"Adam\",\n",
    "        ),\n",
    "        cn__n_filters=cn_filters,\n",
    "        cn__dilation_steps=cn_layers,\n",
    "    )\n"
   ]
  },
  {
   "cell_type": "code",
   "execution_count": null,
   "metadata": {},
   "outputs": [],
   "source": [
    "tuner = keras_tuner.RandomSearch(\n",
    "    hypermodel=test_model,\n",
    "    objective=\"val_accuracy\",\n",
    "    max_trials=3,\n",
    "    executions_per_trial=2,\n",
    "    directory=\"my_dir\",\n",
    "    project_name=\"helloworld\",\n",
    ")"
   ]
  },
  {
   "cell_type": "code",
   "execution_count": null,
   "metadata": {},
   "outputs": [],
   "source": [
    "tuner.search(ds_train, epochs=2,)"
   ]
  }
 ],
 "metadata": {
  "kernelspec": {
   "display_name": "Python 3.11.1 ('translob_env': venv)",
   "language": "python",
   "name": "python3"
  },
  "language_info": {
   "codemirror_mode": {
    "name": "ipython",
    "version": 3
   },
   "file_extension": ".py",
   "mimetype": "text/x-python",
   "name": "python",
   "nbconvert_exporter": "python",
   "pygments_lexer": "ipython3",
   "version": "3.11.1"
  },
  "orig_nbformat": 4,
  "vscode": {
   "interpreter": {
    "hash": "9a9191c6b2d33302590e376f8aee71d3c7e87a446da0bda5474eb7c47655c891"
   }
  }
 },
 "nbformat": 4,
 "nbformat_minor": 2
}
