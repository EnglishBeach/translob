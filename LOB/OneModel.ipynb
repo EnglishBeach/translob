{
 "cells": [
  {
   "cell_type": "code",
   "execution_count": null,
   "metadata": {},
   "outputs": [],
   "source": [
    "## For collab\n",
    "# %tensorboard\n",
    "# try:\n",
    "#     from google.colab import drive\n",
    "#     drive.mount('/content/drive/',force_remount=True)\n",
    "#     %cd /content/drive/My Drive/LOB/\n",
    "#     %pip install automodinit keras_tuner\n",
    "#     !nohup /usr/bin/python3 /content/drive/MyDrive/LOB/Colab_saver.py &\n",
    "# except: pass"
   ]
  },
  {
   "cell_type": "code",
   "execution_count": null,
   "metadata": {},
   "outputs": [],
   "source": [
    "import os\n",
    "import datetime\n",
    "import numpy as np\n",
    "import tensorflow as tf\n",
    "\n",
    "from tools import utils,express\n",
    "from models import m_base as test_model\n",
    "seq_len = 100"
   ]
  },
  {
   "cell_type": "code",
   "execution_count": null,
   "metadata": {},
   "outputs": [],
   "source": [
    "## Load data\n",
    "proportion = input('Data proportion 100-0 in % (press enter for all): ')\n",
    "if proportion == '': proportion = 1\n",
    "else: proportion = float(proportion) / 100\n",
    "\n",
    "row_data = express.load_saved_datas(proportion)\n",
    "# row_data = data.load_datas(horizon,path=r'../dataset/BenchmarkDatasets/NoAuction/1.NoAuction_Zscore/NoAuction_Zscore',)\n",
    "express.inspect_datas(row_data)\n",
    "\n",
    "datasets = express.build_datasets(\n",
    "    datas=row_data,\n",
    "    batch_size=100,\n",
    "    seq_len=seq_len,\n",
    ")\n",
    "(ds_train, ds_val, ds_test) =\\\n",
    "(datasets['train'], datasets['val'], datasets['test'])\n",
    "express.inspect_datasets(datasets)"
   ]
  },
  {
   "cell_type": "code",
   "execution_count": null,
   "metadata": {},
   "outputs": [],
   "source": [
    "parametrs = utils.DataClass(test_model.PARAMETRS)\n",
    "parametrs"
   ]
  },
  {
   "cell_type": "code",
   "execution_count": null,
   "metadata": {},
   "outputs": [],
   "source": [
    "## Build\n",
    "tf.keras.backend.clear_session()\n",
    "restore = True if input('Restore? (y-yes, enter-no): ') == 'y' else False\n",
    "input_name = ''\n",
    "date_tag = f'({datetime.datetime.now().strftime(\"%H-%M-%S--%d.%m\")})'\n",
    "while input_name == '':\n",
    "    input_name = input(\n",
    "        f\"Input train name to {'restore' if restore else 'build new'}: \")\n",
    "\n",
    "if restore:\n",
    "    model,train_name= express.restore_model(input_name)\n",
    "else:\n",
    "    # parametrs = utils.DataClass(test_model.PARAMETRS)\n",
    "    \n",
    "## Set up parametrs \n",
    "\n",
    "    model = test_model.blocks.build_model(**parametrs.Data_nested)\n",
    "    train_name = f\"{input_name}{date_tag}\"    \n",
    "    print(\n",
    "    f'Pattern model: {test_model.__name__}',\n",
    "    f'Train name: {train_name}',\n",
    "    'Parametrs:',\n",
    "    parametrs,\n",
    "    sep='\\n',\n",
    ")\n",
    "model.summary()"
   ]
  },
  {
   "cell_type": "code",
   "execution_count": null,
   "metadata": {},
   "outputs": [],
   "source": [
    "## Callbacks\n",
    "callback_freq = 'epoch'\n",
    "train_dir = f'{express.callback_path}/{train_name}'\n",
    "\n",
    "callbacks = [\n",
    "    # tf.keras.callbacks.TensorBoard(\n",
    "    #     log_dir=train_dir,\n",
    "    #     histogram_freq=1,\n",
    "    #     update_freq=callback_freq,\n",
    "    # ),\n",
    "    # tf.keras.callbacks.ModelCheckpoint(\n",
    "    #     f'{train_dir}/checkpoints/' + '{epoch:04d}.keras',\n",
    "    #     monitor=\"val_sp_acc\",\n",
    "    #     verbose=0,\n",
    "    #     save_best_only=False,\n",
    "    #     save_weights_only=False,\n",
    "    #     mode=\"auto\",\n",
    "    #     save_freq=callback_freq,\n",
    "    # )\n",
    "]\n",
    "\n",
    "print(\n",
    "    f\"Callbacks:\\n{[str(type(callback)).split('.')[-1] for callback in callbacks]}\",\n",
    "    f'Directory: {train_dir}',\n",
    "    sep='\\n',\n",
    ")\n"
   ]
  },
  {
   "cell_type": "code",
   "execution_count": null,
   "metadata": {},
   "outputs": [],
   "source": [
    "## Train\n",
    "training_question = ''\n",
    "while training_question not in ['y', 'n']:\n",
    "    training_question = input(f'Start training now (y-yes) (n-exit): ')\n",
    "if training_question == 'y':\n",
    "    model.fit(\n",
    "        ds_train,\n",
    "        epochs=20,\n",
    "        validation_data=ds_val,\n",
    "        callbacks=callbacks,\n",
    "    )\n"
   ]
  }
 ],
 "metadata": {
  "kernelspec": {
   "display_name": "Python 3.10.0 ('zGPU_env': venv)",
   "language": "python",
   "name": "python3"
  },
  "language_info": {
   "codemirror_mode": {
    "name": "ipython",
    "version": 3
   },
   "file_extension": ".py",
   "mimetype": "text/x-python",
   "name": "python",
   "nbconvert_exporter": "python",
   "pygments_lexer": "ipython3",
   "version": "3.10.0"
  },
  "orig_nbformat": 4,
  "vscode": {
   "interpreter": {
    "hash": "15c3c8882de147eda8616aa412d6cb2a921cdd19c8088b1f5bdfa95af6065bbb"
   }
  }
 },
 "nbformat": 4,
 "nbformat_minor": 2
}
