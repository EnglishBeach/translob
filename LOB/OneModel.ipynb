{
 "cells": [
  {
   "cell_type": "code",
   "execution_count": null,
   "metadata": {},
   "outputs": [],
   "source": [
    "%tensorboard"
   ]
  },
  {
   "cell_type": "code",
   "execution_count": 1,
   "metadata": {},
   "outputs": [],
   "source": [
    "## For collab\n",
    "try:\n",
    "    from google.colab import drive\n",
    "    drive.mount('/content/drive/',force_remount=True)\n",
    "    %cd /content/drive/My Drive/LOB/\n",
    "    %pip install automodinit keras_tuner\n",
    "    !nohup /usr/bin/python3 /content/drive/MyDrive/LOB/Colab_saver.py &\n",
    "except: pass"
   ]
  },
  {
   "cell_type": "code",
   "execution_count": 2,
   "metadata": {},
   "outputs": [],
   "source": [
    "import datetime\n",
    "import numpy as np\n",
    "import tensorflow as tf\n",
    "import keras\n",
    "from tools import data, utils\n",
    "\n",
    "data.use_jupyter(True)\n",
    "seq_len = 100"
   ]
  },
  {
   "cell_type": "code",
   "execution_count": 3,
   "metadata": {},
   "outputs": [],
   "source": [
    "## Save data\n"
   ]
  },
  {
   "cell_type": "code",
   "execution_count": 4,
   "metadata": {},
   "outputs": [
    {
     "name": "stdout",
     "output_type": "stream",
     "text": [
      "    Datas:\n",
      "train     : x= (40759, 40)     | y= (40759,)       \n",
      "val       : x= (10189, 40)     | y= (10189,)       \n",
      "test      : x= (27917, 40)     | y= (27917,)       \n",
      "    Datasets:\n",
      "train     : [407, 100, 40]\n",
      "val       : [101, 100, 40]\n",
      "test      : [279, 100, 40]\n"
     ]
    }
   ],
   "source": [
    "## Load data\n",
    "part = input('Data dole %? (press enter for all): ')\n",
    "if part == '': part = 1\n",
    "else: part = float(part) / 100\n",
    "\n",
    "row_data = data.load_saved_datas(part)\n",
    "# row_data = data.load_datas(horizon,path=r'../dataset/BenchmarkDatasets/NoAuction/1.NoAuction_Zscore/NoAuction_Zscore',)\n",
    "data.inspect_datas(row_data)\n",
    "\n",
    "datasets = data.build_datasets(\n",
    "    datas=row_data,\n",
    "    batch_size=100,\n",
    "    seq_len=seq_len,\n",
    ")\n",
    "(ds_train, ds_val, ds_test) =\\\n",
    "(datasets['train'], datasets['val'], datasets['test'])\n",
    "data.inspect_datasets(datasets)"
   ]
  },
  {
   "cell_type": "code",
   "execution_count": null,
   "metadata": {},
   "outputs": [],
   "source": [
    "## Build\n",
    "from models import m_base as test_model\n",
    "\n",
    "model_name = ''\n",
    "while model_name == '':\n",
    "    model_name = input('Training name: ')\n",
    "\n",
    "pars = utils.DataClass(test_model.PARAMETRS)\n",
    "model = test_model.build_model(**pars.Info_expanded)\n",
    "print(model_name)\n",
    "model.summary()"
   ]
  },
  {
   "cell_type": "code",
   "execution_count": null,
   "metadata": {},
   "outputs": [],
   "source": [
    "## Callbacks\n",
    "callback_freq = 'epoch'\n",
    "name_tag = datetime.datetime.now().strftime(\"%H-%M-%S--%d.%m\")\n",
    "log_dir = data.prefix+f'/Temp/callbacks/{model_name}({name_tag})'\n",
    "callbacks = [\n",
    "    tf.keras.callbacks.TensorBoard(\n",
    "        log_dir=log_dir,\n",
    "        histogram_freq=1,\n",
    "        update_freq=callback_freq,\n",
    "    ),\n",
    "    tf.keras.callbacks.ModelCheckpoint(\n",
    "        f\"{log_dir}/checkPoints\",\n",
    "        monitor=\"val_sp_acc\",\n",
    "        verbose=0,\n",
    "        save_best_only=False,\n",
    "        save_weights_only=True,\n",
    "        mode=\"auto\",\n",
    "        save_freq=callback_freq,\n",
    "    )\n",
    "]\n",
    "print(callbacks, log_dir, sep='\\n')"
   ]
  },
  {
   "cell_type": "code",
   "execution_count": null,
   "metadata": {},
   "outputs": [],
   "source": [
    "## Train  \n",
    "training_question = ''\n",
    "while training_question not in ['y', 'n']:\n",
    "    training_question = input('Start training now? (y-yes) (n-exit): ')\n",
    "if training_question == 'y':\n",
    "    model.fit(\n",
    "        ds_train,\n",
    "        epochs=20,\n",
    "        validation_data=ds_val,\n",
    "        callbacks=callbacks,\n",
    "    )\n"
   ]
  }
 ],
 "metadata": {
  "kernelspec": {
   "display_name": "Python 3.10.0 ('zGPU_env': venv)",
   "language": "python",
   "name": "python3"
  },
  "language_info": {
   "codemirror_mode": {
    "name": "ipython",
    "version": 3
   },
   "file_extension": ".py",
   "mimetype": "text/x-python",
   "name": "python",
   "nbconvert_exporter": "python",
   "pygments_lexer": "ipython3",
   "version": "3.10.0"
  },
  "orig_nbformat": 4,
  "vscode": {
   "interpreter": {
    "hash": "15c3c8882de147eda8616aa412d6cb2a921cdd19c8088b1f5bdfa95af6065bbb"
   }
  }
 },
 "nbformat": 4,
 "nbformat_minor": 2
}
