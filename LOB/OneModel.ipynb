{
 "cells": [
  {
   "cell_type": "code",
   "execution_count": null,
   "metadata": {
    "id": "fA6i_PGEqeMZ"
   },
   "outputs": [],
   "source": [
    "# for collab\n",
    "\n",
    "import tensorflow as tf\n",
    "\n",
    "def colab_connect():\n",
    "\n",
    "    if tf.__version__!='2.13.0':\n",
    "        %pip install tensorflow==2.13.0\n",
    "        print('Stopping RUNTIME! Please run again.')\n",
    "        import os\n",
    "        os.kill(os.getpid(), 9)\n",
    "\n",
    "    from google.colab import drive\n",
    "    drive.mount('/content/drive/',force_remount=True)\n",
    "    %cd /content/drive/My Drive/LOB/\n",
    "\n",
    "    %pip install automodinit keras_tuner\n",
    "\n",
    "try:\n",
    "    import google.colab\n",
    "    IS_COLAB = True\n",
    "    colab_connect()\n",
    "except:\n",
    "    IS_COLAB =False"
   ]
  },
  {
   "cell_type": "code",
   "execution_count": null,
   "metadata": {},
   "outputs": [],
   "source": [
    "if IS_COLAB:\n",
    "    !nohup /usr/bin/python3 /content/drive/MyDrive/LOB/test_process.py &"
   ]
  },
  {
   "cell_type": "code",
   "execution_count": null,
   "metadata": {
    "id": "BBHMPMJPC73f"
   },
   "outputs": [],
   "source": [
    "import numpy as np\n",
    "from tqdm import tqdm\n",
    "import keras\n",
    "import datetime\n",
    "\n",
    "import data\n",
    "from utilites import DataClass\n",
    "\n",
    "seq_len = 100"
   ]
  },
  {
   "cell_type": "code",
   "execution_count": null,
   "metadata": {
    "id": "oMaIqRf0C73g"
   },
   "outputs": [],
   "source": [
    "# Load data\n",
    "if input('Quck training? (y-yes)')=='y':\n",
    "    data_len=2000\n",
    "else:\n",
    "    data_len=None\n",
    "\n",
    "row_data = data.load_saved_datas(data_len)\n",
    "# row_data = data.load_dataset(horizon=4)\n",
    "data.inspect_datas(row_data)\n",
    "\n",
    "datasets = data.build_datasets(\n",
    "    datas=row_data,\n",
    "    batch_size=100,\n",
    "    seq_len=seq_len,\n",
    ")\n",
    "(ds_train, ds_val, ds_test) =\\\n",
    "(datasets['train'], datasets['val'], datasets['test'])\n",
    "data.inspect_datasets(datasets)"
   ]
  },
  {
   "cell_type": "code",
   "execution_count": null,
   "metadata": {
    "id": "tkNDI_N-C73h"
   },
   "outputs": [],
   "source": [
    "# # Save data\n",
    "# data.save_data(name= 'train',x= x_train,y=y_train)\n",
    "# data.save_data(name= 'val',x= x_val,y=y_val)\n",
    "# data.save_data(name= 'test',x= x_test,y=y_test)"
   ]
  },
  {
   "cell_type": "code",
   "execution_count": null,
   "metadata": {
    "id": "5sSnl4VYC73k"
   },
   "outputs": [],
   "source": [
    "# Build\n",
    "from models import m_base as test_model\n",
    "model_name=''\n",
    "while model_name=='':\n",
    "    model_name = input('Search name')\n",
    "    \n",
    "pars = DataClass(test_model.PARAMETRS)\n",
    "model = test_model.build_model(**pars.Info_expanded)\n",
    "print(model_name)\n",
    "model.summary()"
   ]
  },
  {
   "cell_type": "code",
   "execution_count": null,
   "metadata": {
    "id": "2opagWnEC73l"
   },
   "outputs": [],
   "source": [
    "# Callbacks\n",
    "log_dir = f'Temp/callbacks/{model_name}({datetime.datetime.now().strftime(\"%H-%M-%S--%d.%m\")})'\n",
    "callbacks = [\n",
    "    keras.callbacks.TensorBoard(\n",
    "        log_dir=log_dir,\n",
    "        histogram_freq=1,\n",
    "        update_freq=1,\n",
    "    ),\n",
    "    # tf.keras.callbacks.ModelCheckpoint(\n",
    "    #     f\"{save_path}/checkPoints\",\n",
    "    #     monitor=\"val_loss\",\n",
    "    #     verbose=0,\n",
    "    #     save_best_only=False,\n",
    "    #     save_weights_only=True,\n",
    "    #     mode=\"auto\",\n",
    "    #     save_freq=50,\n",
    "    #     options=None,\n",
    "    #     initial_value_threshold=None,\n",
    "    # )\n",
    "]\n",
    "print(callbacks, log_dir, sep='\\n')"
   ]
  },
  {
   "cell_type": "code",
   "execution_count": null,
   "metadata": {
    "colab": {
     "background_save": true
    },
    "id": "IbACOcK8jpUg"
   },
   "outputs": [],
   "source": [
    "# Train\n",
    "if input('Start training now? (y-yes)')=='y':\n",
    "    model.fit(\n",
    "        ds_train,\n",
    "        epochs=20,\n",
    "        validation_data=ds_val,\n",
    "        callbacks=callbacks,\n",
    "    )"
   ]
  }
 ],
 "metadata": {
  "kernelspec": {
   "display_name": "Python 3.10.0 ('zGPU_env': venv)",
   "language": "python",
   "name": "python3"
  },
  "language_info": {
   "codemirror_mode": {
    "name": "ipython",
    "version": 3
   },
   "file_extension": ".py",
   "mimetype": "text/x-python",
   "name": "python",
   "nbconvert_exporter": "python",
   "pygments_lexer": "ipython3",
   "version": "3.10.0"
  },
  "orig_nbformat": 4,
  "vscode": {
   "interpreter": {
    "hash": "15c3c8882de147eda8616aa412d6cb2a921cdd19c8088b1f5bdfa95af6065bbb"
   }
  }
 },
 "nbformat": 4,
 "nbformat_minor": 2
}
