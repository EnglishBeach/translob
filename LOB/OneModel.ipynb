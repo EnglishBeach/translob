{
 "cells": [
  {
   "cell_type": "code",
   "execution_count": null,
   "metadata": {},
   "outputs": [],
   "source": [
    "## For collab\n",
    "# %tensorboard\n",
    "# try:\n",
    "#     from google.colab import drive\n",
    "#     drive.mount('/content/drive/',force_remount=True)\n",
    "#     %cd /content/drive/My Drive/LOB/\n",
    "#     %pip install automodinit keras_tuner\n",
    "#     !nohup /usr/bin/python3 /content/drive/MyDrive/LOB/Colab_saver.py &\n",
    "# except: pass"
   ]
  },
  {
   "cell_type": "code",
   "execution_count": null,
   "metadata": {},
   "outputs": [],
   "source": [
    "import os\n",
    "import datetime\n",
    "import numpy as np\n",
    "import tensorflow as tf\n",
    "\n",
    "from tools import data, utils\n",
    "from models import m_base as test_model\n",
    "\n",
    "seq_len = 100"
   ]
  },
  {
   "cell_type": "code",
   "execution_count": null,
   "metadata": {},
   "outputs": [],
   "source": [
    "## Save data\n"
   ]
  },
  {
   "cell_type": "code",
   "execution_count": null,
   "metadata": {},
   "outputs": [],
   "source": [
    "## Load data\n",
    "proportion = input('Data proportion 100-0 in % (press enter for all): ')\n",
    "if proportion == '': proportion = 1\n",
    "else: proportion = float(proportion) / 100\n",
    "\n",
    "row_data = data.load_saved_datas(proportion)\n",
    "# row_data = data.load_datas(horizon,path=r'../dataset/BenchmarkDatasets/NoAuction/1.NoAuction_Zscore/NoAuction_Zscore',)\n",
    "data.inspect_datas(row_data)\n",
    "\n",
    "datasets = data.build_datasets(\n",
    "    datas=row_data,\n",
    "    batch_size=100,\n",
    "    seq_len=seq_len,\n",
    ")\n",
    "(ds_train, ds_val, ds_test) =\\\n",
    "(datasets['train'], datasets['val'], datasets['test'])\n",
    "data.inspect_datasets(datasets)"
   ]
  },
  {
   "cell_type": "code",
   "execution_count": null,
   "metadata": {},
   "outputs": [],
   "source": [
    "## Build\n",
    "restore = True if input('Restore? (y-yes, enter-no): ') == 'y' else False\n",
    "input_name = ''\n",
    "date_tag = f'({datetime.datetime.now().strftime(\"%H-%M-%S--%d.%m\")})'\n",
    "while input_name == '':\n",
    "    input_name = input(\n",
    "        f\"Input model name to {'restore' if restore else 'build new'}: \")\n",
    "\n",
    "if restore:\n",
    "    restore_path = f'{data.callback_path}/{input_name}/checkpoints'\n",
    "    checkpoint_list = sorted(os.listdir(restore_path))\n",
    "    model = tf.keras.models.load_model(f'{restore_path}/{checkpoint_list[-1]}')\n",
    "    print(f'Model {checkpoint_list[-1]} loaded')\n",
    "    input_name =\\\n",
    "        ('restore' if restore else '')+\\\n",
    "        (checkpoint_list[-1].split('.')[0])+\\\n",
    "        '_'+\\\n",
    "        (input_name.split('(')[0])\n",
    "else:\n",
    "    pars = utils.DataClass(test_model.PARAMETRS)\n",
    "    model = test_model.build_model(**pars.Info_expanded)\n",
    "    print('Model built')\n",
    "\n",
    "model_name = f\"{input_name}{date_tag}\"\n",
    "print(f'Model name: {model_name}')\n",
    "model.summary()"
   ]
  },
  {
   "cell_type": "code",
   "execution_count": null,
   "metadata": {},
   "outputs": [],
   "source": [
    "## Callbacks\n",
    "callback_freq = 100\n",
    "model_dir = f'{data.callback_path}/{model_name}'\n",
    "\n",
    "callbacks = [\n",
    "    tf.keras.callbacks.TensorBoard(\n",
    "        log_dir=model_dir,\n",
    "        histogram_freq=1,\n",
    "        update_freq=callback_freq,\n",
    "    ),\n",
    "    tf.keras.callbacks.ModelCheckpoint(\n",
    "        f'{model_dir}/checkpoint',\n",
    "        monitor=\"val_sp_acc\",\n",
    "        verbose=0,\n",
    "        save_best_only=False,\n",
    "        save_weights_only=False,\n",
    "        mode=\"auto\",\n",
    "        save_freq=callback_freq,\n",
    "    )\n",
    "]\n",
    "\n",
    "print(\n",
    "    f\"Callbacks:\\n{[str(type(callback)).split('.')[-1] for callback in callbacks]}\",\n",
    "    f'Model directory: {model_dir}',\n",
    "    sep='\\n',\n",
    ")\n"
   ]
  },
  {
   "cell_type": "code",
   "execution_count": null,
   "metadata": {},
   "outputs": [],
   "source": [
    "## Train\n",
    "training_question = ''\n",
    "while training_question not in ['y', 'n']:\n",
    "    training_question = input(f'Start training now (y-yes) (n-exit): ')\n",
    "if training_question == 'y':\n",
    "    model.fit(\n",
    "        ds_train,\n",
    "        epochs=20,\n",
    "        validation_data=ds_val,\n",
    "        callbacks=callbacks,\n",
    "    )\n"
   ]
  }
 ],
 "metadata": {
  "kernelspec": {
   "display_name": "Python 3.10.0 ('zGPU_env': venv)",
   "language": "python",
   "name": "python3"
  },
  "language_info": {
   "codemirror_mode": {
    "name": "ipython",
    "version": 3
   },
   "file_extension": ".py",
   "mimetype": "text/x-python",
   "name": "python",
   "nbconvert_exporter": "python",
   "pygments_lexer": "ipython3",
   "version": "3.10.0"
  },
  "orig_nbformat": 4,
  "vscode": {
   "interpreter": {
    "hash": "15c3c8882de147eda8616aa412d6cb2a921cdd19c8088b1f5bdfa95af6065bbb"
   }
  }
 },
 "nbformat": 4,
 "nbformat_minor": 2
}
