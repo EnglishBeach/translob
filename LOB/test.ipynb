{
 "cells": [
  {
   "cell_type": "code",
   "execution_count": null,
   "metadata": {},
   "outputs": [],
   "source": [
    "import numpy as np\n",
    "from tqdm import tqdm\n",
    "import keras\n",
    "from keras import Model\n",
    "from keras.preprocessing import timeseries_dataset_from_array\n",
    "\n",
    "import modules.blocks as blocks\n",
    "import modules.data as data\n",
    "from modules.utilites import DataClass"
   ]
  },
  {
   "cell_type": "code",
   "execution_count": null,
   "metadata": {},
   "outputs": [],
   "source": [
    "# Model parametrs\n",
    "class Input_pars(DataClass):\n",
    "    seq_len = 100\n",
    "\n",
    "\n",
    "class CN_pars(DataClass):\n",
    "    n_filters = 14\n",
    "    dilation_steps = 4  # dilation = 2**dilation_step\n",
    "\n",
    "\n",
    "class AN_pars(DataClass):\n",
    "    attention_heads = 3\n",
    "    blocks = 2\n",
    "    share_weights = True\n",
    "\n",
    "\n",
    "class FF_pars(DataClass):\n",
    "    dropout_rate = 0.1\n",
    "\n",
    "\n",
    "class Optimaser_pars(DataClass):\n",
    "    lr = 0.0001\n",
    "    adam_beta1 = 0.9\n",
    "    adam_beta2 = 0.999\n",
    "\n",
    "\n",
    "class Trainig_pars(DataClass):\n",
    "    shuffle = True\n",
    "    batch_size = 512\n",
    "    epochs = 150\n",
    "\n",
    "\n",
    "class Full_pars(DataClass):\n",
    "    seq_len = 100\n",
    "    cn = CN_pars()\n",
    "    an = AN_pars()\n",
    "    ff = FF_pars()\n",
    "    optimazer = Optimaser_pars()\n",
    "    training = Trainig_pars()\n",
    "\n",
    "\n",
    "pars = Full_pars()"
   ]
  },
  {
   "cell_type": "code",
   "execution_count": null,
   "metadata": {},
   "outputs": [],
   "source": [
    "(x_train, y_train), (x_val, y_val), (x_test,y_test) = data.load_dataset(horizon=4) # yapf:disabele"
   ]
  },
  {
   "cell_type": "code",
   "execution_count": null,
   "metadata": {},
   "outputs": [],
   "source": [
    "ds_train = data.build_dataset(\n",
    "    \n",
    "    x=x_train,\n",
    "    y=y_train,\n",
    "    batch_size=pars.training.batch_size,\n",
    "    seq_len=pars.seq_len,\n",
    ")\n",
    "\n",
    "ds_val = data.build_dataset(\n",
    "    x=x_val,\n",
    "    y=y_val,\n",
    "    batch_size=pars.training.batch_size,\n",
    "    seq_len=pars.seq_len,\n",
    ")\n",
    "\n",
    "ds_test = data.build_dataset(\n",
    "    x=x_test,\n",
    "    y=y_test,\n",
    "    batch_size=pars.training.batch_size,\n",
    "    seq_len=pars.seq_len,\n",
    ")"
   ]
  },
  {
   "cell_type": "code",
   "execution_count": null,
   "metadata": {},
   "outputs": [],
   "source": [
    "# Model\n",
    "inputs = blocks.input_block(pars.seq_len)\n",
    "cnn = blocks.cnn_block(\n",
    "    input_layer=inputs,\n",
    "    filters=pars.cn.n_filters,\n",
    "    dilation_steps=pars.cn.dilation_steps,\n",
    ")\n",
    "norm = blocks.norm_block(input_layer=cnn)\n",
    "pos = blocks.positional_encoder_block(input_layer=norm)\n",
    "\n",
    "x=pos\n",
    "transformer = blocks.transformer_block(\n",
    "    input_layer=pos,\n",
    "    n_blocks=pars.an.blocks,\n",
    "    n_heads=pars.an.attention_heads,\n",
    "    share_weights=True,\n",
    ")\n",
    "ffn = blocks.ffn_block(\n",
    "    input_layer=transformer,\n",
    "    dropout_rate=pars.ff.dropout_rate,\n",
    ")\n",
    "end=ffn\n",
    "model = Model(inputs=inputs, outputs=end)\n",
    "model.summary()"
   ]
  },
  {
   "cell_type": "code",
   "execution_count": null,
   "metadata": {},
   "outputs": [],
   "source": [
    "# CompiLe\n",
    "model.compile(\n",
    "    keras.optimizers.Adam(\n",
    "        learning_rate=pars.optimazer.lr,\n",
    "        beta_1=pars.optimazer.adam_beta1,\n",
    "        beta_2=pars.optimazer.adam_beta2,\n",
    "        name=\"Adam\",\n",
    "    ),\n",
    "    loss=keras.losses.SparseCategoricalCrossentropy(),\n",
    "    metrics=['sparse_categorical_accuracy'],\n",
    ")\n",
    "print(\n",
    "    f'Train x: {str(x_train.shape): <15} - y: {y_train.shape}',\n",
    "    f'Val   x: {str(x_val.shape): <15} - y: {y_val.shape}',\n",
    "    sep='\\n',\n",
    ")"
   ]
  },
  {
   "cell_type": "code",
   "execution_count": null,
   "metadata": {},
   "outputs": [],
   "source": [
    "model.fit(\n",
    "    ds_train,\n",
    "    epochs=pars.training.epochs,\n",
    "    validation_data=ds_val,\n",
    ")\n"
   ]
  }
 ],
 "metadata": {
  "kernelspec": {
   "display_name": "Python 3.11.1 ('translob_env': venv)",
   "language": "python",
   "name": "python3"
  },
  "language_info": {
   "codemirror_mode": {
    "name": "ipython",
    "version": 3
   },
   "file_extension": ".py",
   "mimetype": "text/x-python",
   "name": "python",
   "nbconvert_exporter": "python",
   "pygments_lexer": "ipython3",
   "version": "3.11.1"
  },
  "orig_nbformat": 4,
  "vscode": {
   "interpreter": {
    "hash": "9a9191c6b2d33302590e376f8aee71d3c7e87a446da0bda5474eb7c47655c891"
   }
  }
 },
 "nbformat": 4,
 "nbformat_minor": 2
}
