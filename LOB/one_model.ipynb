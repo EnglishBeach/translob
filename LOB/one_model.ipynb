{
 "cells": [
  {
   "cell_type": "code",
   "execution_count": null,
   "metadata": {
    "id": "fA6i_PGEqeMZ"
   },
   "outputs": [],
   "source": [
    "# for collab\n",
    "\n",
    "import tensorflow as tf\n",
    "\n",
    "def colab_connect():\n",
    "\n",
    "    if tf.__version__!='2.13.0':\n",
    "        %pip install tensorflow==2.13.0\n",
    "        print('Stopping RUNTIME! Please run again.')\n",
    "        import os\n",
    "        os.kill(os.getpid(), 9)\n",
    "\n",
    "    from google.colab import drive\n",
    "    drive.mount('/content/drive/',force_remount=True)\n",
    "    %cd /content/drive/My Drive/LOB/\n",
    "\n",
    "    %pip install automodinit keras_tuner\n",
    "\n",
    "try:\n",
    "    import google.colab\n",
    "    IS_COLAB = True\n",
    "    colab_connect()\n",
    "except:\n",
    "    IS_COLAB =False"
   ]
  },
  {
   "cell_type": "code",
   "execution_count": null,
   "metadata": {},
   "outputs": [],
   "source": [
    "if IS_COLAB:\n",
    "    !nohup /usr/bin/python3 /content/drive/MyDrive/LOB/test_process.py &"
   ]
  },
  {
   "cell_type": "code",
   "execution_count": null,
   "metadata": {
    "id": "BBHMPMJPC73f"
   },
   "outputs": [],
   "source": [
    "import numpy as np\n",
    "from tqdm import tqdm\n",
    "import keras\n",
    "\n",
    "import data\n",
    "from utilites import DataClass\n",
    "\n",
    "seq_len = 100"
   ]
  },
  {
   "cell_type": "code",
   "execution_count": null,
   "metadata": {
    "id": "oMaIqRf0C73g"
   },
   "outputs": [
    {
     "name": "stdout",
     "output_type": "stream",
     "text": [
      "    Datas:\n",
      "train     : x= (203799, 40)    | y= (203799,)      \n",
      "val       : x= (50949, 40)     | y= (50949,)       \n",
      "test      : x= (139586, 40)    | y= (139586,)      \n"
     ]
    }
   ],
   "source": [
    "# Load data\n",
    "row_data = (\n",
    "    # data.load_dataset(horizon=4)\n",
    "    data.load_saved_datas())\n",
    "\n",
    "data.inspect_datas(row_data)"
   ]
  },
  {
   "cell_type": "code",
   "execution_count": null,
   "metadata": {
    "id": "tkNDI_N-C73h"
   },
   "outputs": [],
   "source": [
    "# # Save data\n",
    "# data.save_data(name= 'train',x= x_train,y=y_train)\n",
    "# data.save_data(name= 'val',x= x_val,y=y_val)\n",
    "# data.save_data(name= 'test',x= x_test,y=y_test)"
   ]
  },
  {
   "cell_type": "code",
   "execution_count": null,
   "metadata": {
    "id": "pApLC7P9C73j"
   },
   "outputs": [],
   "source": [
    "from models import m_preln as test_model"
   ]
  },
  {
   "cell_type": "code",
   "execution_count": null,
   "metadata": {
    "id": "5W3fzwPnC73k"
   },
   "outputs": [
    {
     "name": "stdout",
     "output_type": "stream",
     "text": [
      "    Datasets:\n",
      "train     : [398, 100, 40]\n",
      "val       : [100, 100, 40]\n",
      "test      : [273, 100, 40]\n"
     ]
    }
   ],
   "source": [
    "# Datasets\n",
    "datasets = data.build_datasets(\n",
    "    datas=row_data,\n",
    "    batch_size=512,\n",
    "    seq_len=seq_len,\n",
    ")\n",
    "(ds_train, ds_val, ds_test) =\\\n",
    "(datasets['train'], datasets['val'], datasets['test'])\n",
    "data.inspect_datasets(datasets)"
   ]
  },
  {
   "cell_type": "code",
   "execution_count": null,
   "metadata": {
    "id": "5sSnl4VYC73k"
   },
   "outputs": [],
   "source": [
    "# Build\n",
    "model_name = 'base_model_low'\n",
    "pars = DataClass(test_model.PARAMETRS)\n",
    "model = test_model.build_model(**pars.Info_expanded)\n",
    "model.summary()"
   ]
  },
  {
   "cell_type": "code",
   "execution_count": null,
   "metadata": {
    "id": "2opagWnEC73l"
   },
   "outputs": [],
   "source": [
    "# Callbacks\n",
    "callbacks = [\n",
    "    keras.callbacks.TensorBoard(\n",
    "        f\"Temp/callbacks/{model_name}\",\n",
    "        histogram_freq=1,\n",
    "        update_freq=1,\n",
    "    ),\n",
    "    tf.keras.callbacks.ModelCheckpoint(\n",
    "        f\"Temp/callbacks/{model_name}/checkPoint\",\n",
    "        monitor=\"val_loss\",\n",
    "        verbose=0,\n",
    "        save_best_only=False,\n",
    "        save_weights_only=True,\n",
    "        mode=\"auto\",\n",
    "        save_freq=50,\n",
    "        options=None,\n",
    "        initial_value_threshold=None,\n",
    "    )\n",
    "]"
   ]
  },
  {
   "cell_type": "code",
   "execution_count": null,
   "metadata": {
    "colab": {
     "background_save": true
    },
    "id": "IbACOcK8jpUg"
   },
   "outputs": [],
   "source": [
    "# Train\n",
    "model.fit(\n",
    "    ds_train,\n",
    "    epochs=20,\n",
    "    validation_data=ds_val,\n",
    "    callbacks=callbacks,\n",
    ")"
   ]
  }
 ],
 "metadata": {
  "kernelspec": {
   "display_name": "Python 3.11.1 ('translob_env': venv)",
   "language": "python",
   "name": "python3"
  },
  "language_info": {
   "name": "python",
   "version": "3.11.1"
  },
  "orig_nbformat": 4,
  "vscode": {
   "interpreter": {
    "hash": "9a9191c6b2d33302590e376f8aee71d3c7e87a446da0bda5474eb7c47655c891"
   }
  }
 },
 "nbformat": 4,
 "nbformat_minor": 2
}
